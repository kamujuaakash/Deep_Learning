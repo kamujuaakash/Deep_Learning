{
 "cells": [
  {
   "cell_type": "code",
   "execution_count": 1,
   "id": "d9a7ebe5",
   "metadata": {},
   "outputs": [],
   "source": [
    "import matplotlib.pyplot as plt\n",
    "import torch\n",
    "import torch.nn as nn\n",
    "import numpy as np"
   ]
  },
  {
   "cell_type": "markdown",
   "id": "d4b87b1d",
   "metadata": {},
   "source": [
    "Data Creation"
   ]
  },
  {
   "cell_type": "code",
   "execution_count": 2,
   "id": "7e996efe",
   "metadata": {},
   "outputs": [],
   "source": [
    "def DataCreation(data_size,start,end):\n",
    "    input_data = []\n",
    "    output_data = []\n",
    "    input_size = torch.randint(start,end,(data_size,))\n",
    "    for i in range(data_size):\n",
    "        first_layer = torch.rand(input_size[i])\n",
    "        x_0 = torch.randint(0,input_size[i],(1,))\n",
    "        x_1 = torch.randint(1,input_size[i],(1,))\n",
    "        if (x_1 == x_0):\n",
    "            x_1 = x_1 - 1\n",
    "        second_layer = torch.zeros(input_size[i])\n",
    "        second_layer[x_0] = 1\n",
    "        second_layer[x_1] = 1       \n",
    "        input_data.append(torch.stack((first_layer,second_layer)))\n",
    "        output_data.append(first_layer[x_0] + first_layer[x_1])\n",
    "    return(input_data,output_data,data_size)"
   ]
  },
  {
   "cell_type": "code",
   "execution_count": 3,
   "id": "081f0832",
   "metadata": {},
   "outputs": [],
   "source": [
    "input_data,output_data,data_size = DataCreation(5000,2,10)\n",
    "test_input,test_output,test_data_size = DataCreation(1000,2,14)"
   ]
  },
  {
   "cell_type": "code",
   "execution_count": 4,
   "id": "2bd2a7fe",
   "metadata": {},
   "outputs": [],
   "source": [
    "# print(input_data[:10])\n",
    "# print(output_data[:10])"
   ]
  },
  {
   "cell_type": "code",
   "execution_count": 5,
   "id": "3c2ce028",
   "metadata": {},
   "outputs": [],
   "source": [
    "class Elmon(nn.Module):\n",
    "    h = 3\n",
    "    def __init__(self):\n",
    "        super().__init__()\n",
    "        self.h0 = torch.zeros(self.h,1,dtype = torch.float)\n",
    "        self.U = nn.Parameter(torch.randn(self.h,2,requires_grad = True,dtype = torch.float))\n",
    "        self.W = nn.Parameter(torch.randn(self.h,self.h,requires_grad = True,dtype = torch.float))\n",
    "        self.V = nn.Parameter(torch.randn(1,self.h,requires_grad = True,dtype = torch.float))\n",
    "        self.bias_x = nn.Parameter(torch.randn(self.h,1,requires_grad = True,dtype = torch.float))\n",
    "        self.bias_y = nn.Parameter(torch.randn(1,1,requires_grad = True,dtype = torch.float))\n",
    "        \n",
    "    def forward(self,xi):\n",
    "        ht = self.h0\n",
    "        for i in range(len(xi[0])):\n",
    "            ht = torch.tanh(self.U@xi[:,i].unsqueeze(1) + self.W@ht + self.bias_x) \n",
    "        ht = self.V@ht + self.bias_y\n",
    "        return ht[0]\n",
    "    "
   ]
  },
  {
   "cell_type": "code",
   "execution_count": 6,
   "id": "55ed133a",
   "metadata": {},
   "outputs": [],
   "source": [
    "def train_loop(model, loss_fn, optimizer,data_size,input_data,output_data):\n",
    "    loss_m = 0\n",
    "    for i in range(data_size):\n",
    "# Compute prediction\n",
    "        X = input_data[i]\n",
    "        y = output_data[i]\n",
    "        pred = model(X)\n",
    "# Calculating loss\n",
    "        loss = loss_fn(pred, y)\n",
    "# Backpropagation\n",
    "        optimizer.zero_grad()\n",
    "        loss.backward()\n",
    "        optimizer.step()\n",
    "        loss_m = loss_m + loss.detach()\n",
    "    return loss_m/data_size"
   ]
  },
  {
   "cell_type": "code",
   "execution_count": 7,
   "id": "763da862",
   "metadata": {},
   "outputs": [],
   "source": [
    "def test_loop(model,loss_fn,test_data_size,test_input,test_output):\n",
    "    loss_t = 0\n",
    "    for i in range(test_data_size):\n",
    "        X = test_input[i]\n",
    "        y = test_output[i]\n",
    "        pred = model(X)\n",
    "        loss = loss_fn(pred,y)\n",
    "        loss_t = loss_t + loss.detach()\n",
    "    return loss_t/test_data_size"
   ]
  },
  {
   "cell_type": "markdown",
   "id": "7384d1de",
   "metadata": {},
   "source": [
    "Elman RNN"
   ]
  },
  {
   "cell_type": "code",
   "execution_count": 8,
   "id": "bb2c3066",
   "metadata": {},
   "outputs": [
    {
     "name": "stdout",
     "output_type": "stream",
     "text": [
      "Epoch 1:0.17095214128494263\n",
      "Epoch 2:0.14376237988471985\n",
      "Epoch 3:0.13556843996047974\n",
      "Epoch 4:0.12702268362045288\n",
      "Epoch 5:0.11581497639417648\n",
      "Epoch 6:0.10993743687868118\n",
      "Epoch 7:0.10685567557811737\n",
      "Epoch 8:0.10121242702007294\n",
      "Epoch 9:0.09242576360702515\n",
      "Epoch 10:0.08072927594184875\n",
      "Done!\n"
     ]
    }
   ],
   "source": [
    "model_1 = Elmon()\n",
    "loss_fn = nn.MSELoss()\n",
    "optimizer = torch.optim.SGD(model_1.parameters(), lr=0.005)\n",
    "elmon_loss = torch.empty([1])\n",
    "current_loss = 100\n",
    "epochs = 0\n",
    "while True:\n",
    "    if (abs(current_loss) > 0.005 and epochs < 10) :\n",
    "            current_loss = train_loop(model_1, loss_fn, optimizer,data_size,input_data,output_data)\n",
    "            print(\"Epoch {}:{}\".format(epochs+1,current_loss))\n",
    "            elmon_loss = torch.cat((elmon_loss,torch.tensor([current_loss])))\n",
    "            epochs = epochs + 1\n",
    "    else:\n",
    "        break\n",
    "    \n",
    "print(\"Done!\")"
   ]
  },
  {
   "cell_type": "code",
   "execution_count": 9,
   "id": "bc30abf3",
   "metadata": {},
   "outputs": [],
   "source": [
    "elmon_test = test_loop(model_1,loss_fn,test_data_size,test_input,test_output)"
   ]
  },
  {
   "cell_type": "code",
   "execution_count": 10,
   "id": "6b89d782",
   "metadata": {},
   "outputs": [],
   "source": [
    "# print(elmon_loss)"
   ]
  },
  {
   "cell_type": "code",
   "execution_count": 11,
   "id": "41f5d759",
   "metadata": {},
   "outputs": [],
   "source": [
    "class LSTM(nn.Module):\n",
    "    h = 5\n",
    "    C = 5\n",
    "    def __init__(self):\n",
    "        \n",
    "        super().__init__()\n",
    "        \n",
    "        self.h0 = torch.zeros(self.h,1,dtype = torch.float)\n",
    "        self.C0 = torch.zeros(self.C,1,dtype = torch.float)\n",
    "        \n",
    "        self.Wf = nn.Parameter(torch.randn(self.C,self.h + 2,requires_grad = True,dtype = torch.float)/(np.sqrt(self.h+2)))\n",
    "        self.bf = nn.Parameter(torch.zeros(self.C,1,requires_grad = True,dtype = torch.float))\n",
    "        self.Wi = nn.Parameter(torch.randn(self.C,self.h + 2,requires_grad = True,dtype = torch.float)/(np.sqrt(self.h+2)))\n",
    "        self.bi = nn.Parameter(torch.zeros(self.C,1,requires_grad = True,dtype = torch.float))\n",
    "        self.WC = nn.Parameter(torch.randn(self.C,self.h + 2,requires_grad = True,dtype = torch.float)/(np.sqrt(self.h+2)))\n",
    "        self.bC = nn.Parameter(torch.zeros(self.C,1,requires_grad = True,dtype = torch.float))\n",
    "        self.Wo = nn.Parameter(torch.randn(self.C,self.h + 2,requires_grad = True,dtype = torch.float)/(np.sqrt(self.h+2)))\n",
    "        self.bo = nn.Parameter(torch.zeros(self.C,1,requires_grad = True,dtype = torch.float))\n",
    "        self.Wy = nn.Parameter(torch.randn(1,self.h,requires_grad = True,dtype = torch.float)/(np.sqrt(self.h)))\n",
    "        self.by = nn.Parameter(torch.zeros(1,1,requires_grad = True,dtype = torch.float))\n",
    "        \n",
    "    def forward(self,xt):\n",
    "        ht = self.h0\n",
    "        Ct = self.C0\n",
    "        for i in range(len(xt)):\n",
    "            cathx = torch.cat((ht,xt[:,i].unsqueeze(1)))\n",
    "            ft = torch.sigmoid(self.Wf@(cathx) + self.bf)\n",
    "            it = torch.sigmoid(self.Wi@(cathx) + self.bi)\n",
    "            C_t = torch.tanh(self.WC@(cathx) + self.bC)\n",
    "            Ct = (ft*Ct) + (it*C_t)\n",
    "            ot = torch.sigmoid(self.Wo@(cathx) + self.bo)\n",
    "            ht = (ot*torch.tanh(Ct))\n",
    "        y = self.Wy@ht + self.by\n",
    "        \n",
    "        return y[0]"
   ]
  },
  {
   "cell_type": "code",
   "execution_count": 12,
   "id": "27763f2b",
   "metadata": {},
   "outputs": [
    {
     "name": "stdout",
     "output_type": "stream",
     "text": [
      "Epoch 1:0.13855396211147308\n",
      "Epoch 2:0.11508720368146896\n",
      "Epoch 3:0.10973673313856125\n",
      "Epoch 4:0.10680483281612396\n",
      "Epoch 5:0.10494488477706909\n",
      "Epoch 6:0.10380426049232483\n",
      "Epoch 7:0.10307390242815018\n",
      "Epoch 8:0.10257349908351898\n",
      "Epoch 9:0.10220884531736374\n",
      "Epoch 10:0.10193004459142685\n",
      "Done!\n"
     ]
    }
   ],
   "source": [
    "model_2 = LSTM()\n",
    "loss_fn = nn.MSELoss()\n",
    "optimizer = torch.optim.SGD(model_2.parameters(), lr=0.015)\n",
    "LSTM_loss = torch.empty([1])\n",
    "current_loss = 100\n",
    "epochs = 0\n",
    "while True:\n",
    "    if (\n",
    "#         abs(current_loss) > 0.05 and \n",
    "        epochs < 10) :\n",
    "            current_loss = train_loop(model_2, loss_fn, optimizer,data_size,input_data,output_data)\n",
    "            print(\"Epoch {}:{}\".format(epochs+1,current_loss))\n",
    "            LSTM_loss = torch.cat((LSTM_loss,torch.tensor([current_loss])))\n",
    "            epochs = epochs + 1\n",
    "    else:\n",
    "        break\n",
    "print(\"Done!\")"
   ]
  },
  {
   "cell_type": "code",
   "execution_count": 13,
   "id": "011de909",
   "metadata": {},
   "outputs": [],
   "source": [
    "LSTM_test = test_loop(model_2,loss_fn,test_data_size,test_input,test_output)"
   ]
  },
  {
   "cell_type": "code",
   "execution_count": null,
   "id": "75a3ab17",
   "metadata": {},
   "outputs": [],
   "source": []
  },
  {
   "cell_type": "code",
   "execution_count": 14,
   "id": "4ebf3049",
   "metadata": {},
   "outputs": [],
   "source": [
    "class GRU(nn.Module):\n",
    "    h = 5\n",
    "    def __init__(self):\n",
    "        \n",
    "        super().__init__()\n",
    "        self.h0 = torch.zeros(self.h,1,dtype = torch.float)\n",
    "        self.Wr = nn.Parameter(torch.randn(self.h,self.h + 2,dtype = torch.float)/(np.sqrt(self.h+2)))\n",
    "        self.br = nn.Parameter(torch.rand(self.h,1,dtype = torch.float))\n",
    "        self.Wz = nn.Parameter(torch.randn(self.h,self.h + 2,dtype = torch.float)/(np.sqrt(self.h+2)))\n",
    "        self.bz = nn.Parameter(torch.rand(self.h,1,dtype = torch.float))\n",
    "        self.W = nn.Parameter(torch.randn(self.h,self.h + 2,dtype = torch.float)/(np.sqrt(self.h+2)))\n",
    "        self.b = nn.Parameter(torch.rand(self.h,1,dtype = torch.float))\n",
    "        self.Wy = nn.Parameter(torch.randn(1,self.h,dtype = torch.float)/(np.sqrt(self.h)))\n",
    "        self.by = nn.Parameter(torch.rand(1,1,dtype = torch.float))\n",
    "        \n",
    "    def forward(self,xt):\n",
    "        \n",
    "        ht = self.h0\n",
    "        for i in range(len(xt)):\n",
    "            \n",
    "            cathx = torch.cat((ht,xt[:,i].unsqueeze(1)))\n",
    "            \n",
    "            zt = torch.sigmoid(self.Wz@(cathx) + self.bz)\n",
    "      \n",
    "            rt = torch.sigmoid(self.Wr@(cathx) + self.br)\n",
    "            \n",
    "            h_t = torch.tanh(self.W@(torch.cat((torch.mul(rt,ht),xt[:,i].unsqueeze(1)))) + self.b)\n",
    "            \n",
    "            ht = torch.mul(1-zt,ht) + torch.mul(zt,h_t)\n",
    "            \n",
    "        y = self.Wy@ht + self.by\n",
    "        return y[0]"
   ]
  },
  {
   "cell_type": "code",
   "execution_count": 15,
   "id": "995250a1",
   "metadata": {
    "scrolled": true
   },
   "outputs": [
    {
     "name": "stdout",
     "output_type": "stream",
     "text": [
      "Epoch 1:0.14417299628257751\n",
      "Epoch 2:0.11585243046283722\n",
      "Epoch 3:0.10526351630687714\n",
      "Epoch 4:0.10403251647949219\n",
      "Epoch 5:0.10342343896627426\n",
      "Epoch 6:0.10300768911838531\n",
      "Epoch 7:0.10270010679960251\n",
      "Epoch 8:0.10246028006076813\n",
      "Epoch 9:0.10226529836654663\n",
      "Epoch 10:0.10210207104682922\n",
      "Done!\n"
     ]
    }
   ],
   "source": [
    "model_3 = GRU()\n",
    "loss_fn = nn.MSELoss()\n",
    "optimizer = torch.optim.SGD(model_3.parameters(), lr=0.015)\n",
    "GRU_loss = torch.empty([1])\n",
    "current_loss = 100\n",
    "epochs = 0\n",
    "\n",
    "while True:\n",
    "    if (abs(current_loss) > 0.05 and epochs < 10) :\n",
    "            current_loss = train_loop(model_3, loss_fn, optimizer,data_size,input_data,output_data)\n",
    "            print(\"Epoch {}:{}\".format(epochs+1,current_loss))\n",
    "            GRU_loss = torch.cat((GRU_loss,torch.tensor([current_loss])))\n",
    "            epochs = epochs + 1\n",
    "    else:\n",
    "        break\n",
    "print(\"Done!\")"
   ]
  },
  {
   "cell_type": "code",
   "execution_count": 16,
   "id": "653b57be",
   "metadata": {},
   "outputs": [],
   "source": [
    "GRU_test = test_loop(model_3,loss_fn,test_data_size,test_input,test_output)"
   ]
  },
  {
   "cell_type": "code",
   "execution_count": 17,
   "id": "19447006",
   "metadata": {},
   "outputs": [
    {
     "name": "stdout",
     "output_type": "stream",
     "text": [
      "tensor(0.1669)\n"
     ]
    }
   ],
   "source": [
    "loss_m = 0\n",
    "loss_fn = nn.MSELoss()\n",
    "for i in range(data_size):\n",
    "    x = torch.tensor([1])\n",
    "    y = output_data[i]\n",
    "    loss = loss_fn(x, y)\n",
    "    loss_m = loss_m + loss\n",
    "loss_m = loss_m/data_size    \n",
    "print(loss_m)"
   ]
  },
  {
   "cell_type": "code",
   "execution_count": 18,
   "id": "94760183",
   "metadata": {},
   "outputs": [
    {
     "name": "stdout",
     "output_type": "stream",
     "text": [
      "tensor(0.1645)\n"
     ]
    }
   ],
   "source": [
    "testloss_m = 0\n",
    "loss_fn = nn.MSELoss()\n",
    "for i in range(test_data_size):\n",
    "    x = torch.tensor([1])\n",
    "    y = test_output[i]\n",
    "    loss = loss_fn(x, y)\n",
    "    testloss_m = testloss_m + loss\n",
    "testloss_m = testloss_m/test_data_size    \n",
    "print(testloss_m)"
   ]
  },
  {
   "cell_type": "code",
   "execution_count": 19,
   "id": "dca6d6e4",
   "metadata": {},
   "outputs": [
    {
     "data": {
      "image/png": "[encoded data removed]",
      "text/plain": [
       "<Figure size 640x480 with 1 Axes>"
      ]
     },
     "metadata": {},
     "output_type": "display_data"
    }
   ],
   "source": [
    "x = torch.linspace(-1,10,10)\n",
    "y = torch.ones(10)*loss_m\n",
    "plt.plot(x, y, '-r', label =\"baseline loss\")\n",
    "plt.plot(x,elmon_loss[1:11],'-b',label = \"loss in elmon\")\n",
    "plt.plot(x,LSTM_loss[1:11],'-g',label = \"loss in LSTM\")\n",
    "plt.plot(x,GRU_loss[1:11],'-c',label = \"loss in GRU\")\n",
    "plt.title('Comparing Losses')\n",
    "plt.xlabel('Epochs', color='#1C2833')\n",
    "plt.ylabel('Loss on Epochs', color='#1C2833')\n",
    "plt.legend(loc='upper right')\n",
    "plt.show()"
   ]
  },
  {
   "cell_type": "code",
   "execution_count": 20,
   "id": "833461a8",
   "metadata": {},
   "outputs": [
    {
     "data": {
      "image/png": "[encoded data removed]",
      "text/plain": [
       "<Figure size 1000x500 with 1 Axes>"
      ]
     },
     "metadata": {},
     "output_type": "display_data"
    }
   ],
   "source": [
    "Loss = {'Baseline':testloss_m, 'Elman':elmon_test, 'LSTM':LSTM_test,\n",
    "    'GRU':GRU_test}\n",
    "modelLoss = list(Loss.keys())\n",
    "lossValues = list(Loss.values())\n",
    "fig = plt.figure(figsize = (10, 5))\n",
    "plt.bar(modelLoss[0], lossValues[0],width = 0.4)\n",
    "\n",
    "plt.bar(modelLoss[1], lossValues[1], width = 0.4)\n",
    "\n",
    "plt.bar(modelLoss[2], lossValues[2],width = 0.4)\n",
    "\n",
    "plt.bar(modelLoss[3], lossValues[3], width = 0.4)\n",
    "\n",
    "plt.xlabel(\"models\")\n",
    "plt.ylabel(\"test_error\")\n",
    "plt.title(\"Test Errors\")\n",
    "plt.show()"
   ]
  },
  {
   "cell_type": "code",
   "execution_count": null,
   "id": "64ceceea",
   "metadata": {},
   "outputs": [],
   "source": []
  },
  {
   "cell_type": "code",
   "execution_count": null,
   "id": "e7f76153",
   "metadata": {},
   "outputs": [],
   "source": []
  }
 ],
 "metadata": {
  "kernelspec": {
   "display_name": "Python 3 (ipykernel)",
   "language": "python",
   "name": "python3"
  },
  "language_info": {
   "codemirror_mode": {
    "name": "ipython",
    "version": 3
   },
   "file_extension": ".py",
   "mimetype": "text/x-python",
   "name": "python",
   "nbconvert_exporter": "python",
   "pygments_lexer": "ipython3",
   "version": "3.11.3"
  }
 },
 "nbformat": 4,
 "nbformat_minor": 5
}
