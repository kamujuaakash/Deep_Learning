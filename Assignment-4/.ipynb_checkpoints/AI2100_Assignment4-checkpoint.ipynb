{
 "cells": [
  {
   "cell_type": "code",
   "execution_count": 1,
   "id": "d9a7ebe5",
   "metadata": {},
   "outputs": [],
   "source": [
    "import matplotlib.pyplot as plt\n",
    "import torch\n",
    "import torch.nn as nn"
   ]
  },
  {
   "cell_type": "markdown",
   "id": "d4b87b1d",
   "metadata": {},
   "source": [
    "Data Creation"
   ]
  },
  {
   "cell_type": "code",
   "execution_count": 2,
   "id": "7e996efe",
   "metadata": {},
   "outputs": [],
   "source": [
    "def DataCreation(data_size,start,end):\n",
    "    input_data = []\n",
    "    output_data = []\n",
    "    input_size = torch.randint(start,end,(data_size,))\n",
    "    for i in range(data_size):\n",
    "        first_layer = torch.rand(input_size[i])\n",
    "        x_0 = torch.randint(0,input_size[i],(1,))\n",
    "        x_1 = torch.randint(1,input_size[i],(1,))\n",
    "        if (x_1 == x_0):\n",
    "            x_1 = x_1 - 1\n",
    "        second_layer = torch.zeros(input_size[i])\n",
    "        second_layer[x_0] = 1\n",
    "        second_layer[x_1] = 1       \n",
    "        input_data.append(torch.stack((first_layer,second_layer)))\n",
    "        output_data.append(first_layer[x_0] + first_layer[x_1])\n",
    "    return(input_data,output_data,data_size)"
   ]
  },
  {
   "cell_type": "code",
   "execution_count": 3,
   "id": "081f0832",
   "metadata": {},
   "outputs": [],
   "source": [
    "input_data,output_data,data_size = DataCreation(5000,2,10)\n",
    "test_input,test_output,test_data_size = DataCreation(1000,2,12)"
   ]
  },
  {
   "cell_type": "code",
   "execution_count": 4,
   "id": "3c2ce028",
   "metadata": {},
   "outputs": [],
   "source": [
    "class Elmon(nn.Module):\n",
    "    h = 3\n",
    "    def __init__(self):\n",
    "        super().__init__()\n",
    "        self.h0 = torch.zeros(self.h,1,dtype = torch.float)\n",
    "        self.U = nn.Parameter(torch.randn(self.h,2,requires_grad = True,dtype = torch.float))\n",
    "        self.W = nn.Parameter(torch.randn(self.h,self.h,requires_grad = True,dtype = torch.float))\n",
    "        self.V = nn.Parameter(torch.randn(1,self.h,requires_grad = True,dtype = torch.float))\n",
    "        self.bias_x = nn.Parameter(torch.randn(self.h,1,requires_grad = True,dtype = torch.float))\n",
    "        self.bias_y = nn.Parameter(torch.randn(1,1,requires_grad = True,dtype = torch.float))\n",
    "        \n",
    "    def forward(self,xi):\n",
    "        ht = self.h0\n",
    "        for i in range(len(xi[0])):\n",
    "            ht = torch.tanh(self.U@xi[:,i].unsqueeze(1) + self.W@ht + self.bias_x) \n",
    "        ht = self.V@ht + self.bias_y\n",
    "        return ht[0]\n",
    "    "
   ]
  },
  {
   "cell_type": "code",
   "execution_count": 5,
   "id": "55ed133a",
   "metadata": {},
   "outputs": [],
   "source": [
    "def train_loop(model, loss_fn, optimizer,data_size,input_data,output_data):\n",
    "    loss_m = 0\n",
    "    for i in range(data_size):\n",
    "# Compute prediction\n",
    "        X = input_data[i]\n",
    "        y = output_data[i]\n",
    "        pred = model(X)\n",
    "# Calculating loss\n",
    "        loss = loss_fn(pred, y)\n",
    "# Backpropagation\n",
    "        optimizer.zero_grad()\n",
    "        loss.backward()\n",
    "        optimizer.step()\n",
    "        loss_m = loss_m + loss.detach()\n",
    "    return loss_m/data_size"
   ]
  },
  {
   "cell_type": "code",
   "execution_count": 6,
   "id": "763da862",
   "metadata": {},
   "outputs": [],
   "source": [
    "def test_loop(model,loss_fn,test_data_size,test_input,test_output):\n",
    "    loss_t = 0\n",
    "    for i in range(test_data_size):\n",
    "        X = test_input[i]\n",
    "        y = test_output[i]\n",
    "        pred = model(X)\n",
    "        loss = loss_fn(pred,y)\n",
    "        loss_t = loss_t + loss.detach()\n",
    "    return loss_t/test_data_size"
   ]
  },
  {
   "cell_type": "markdown",
   "id": "fbb9af17",
   "metadata": {},
   "source": [
    "Elman RNN"
   ]
  },
  {
   "cell_type": "code",
   "execution_count": 7,
   "id": "bb2c3066",
   "metadata": {},
   "outputs": [
    {
     "name": "stdout",
     "output_type": "stream",
     "text": [
      "Epoch 1:0.16863025724887848\n",
      "Epoch 2:0.14590683579444885\n",
      "Epoch 3:0.061055902391672134\n",
      "Epoch 4:0.029314562678337097\n",
      "Epoch 5:0.023880915716290474\n",
      "Epoch 6:0.021949052810668945\n",
      "Epoch 7:0.020121729001402855\n",
      "Epoch 8:0.018177926540374756\n",
      "Epoch 9:0.016308890655636787\n",
      "Epoch 10:0.014735570177435875\n",
      "Done!\n"
     ]
    }
   ],
   "source": [
    "model = Elmon()\n",
    "loss_fn = nn.MSELoss()\n",
    "optimizer = torch.optim.SGD(model.parameters(), lr=0.01)\n",
    "elmon_loss = torch.empty([1])\n",
    "current_loss = 100\n",
    "epochs = 0\n",
    "while True:\n",
    "    if (abs(current_loss) > 0.005 and epochs < 10) :\n",
    "            current_loss = train_loop(model, loss_fn, optimizer,data_size,input_data,output_data)\n",
    "            print(\"Epoch {}:{}\".format(epochs+1,current_loss))\n",
    "            elmon_loss = torch.cat((elmon_loss,torch.tensor([current_loss])))\n",
    "            epochs = epochs + 1\n",
    "    else:\n",
    "        break\n",
    "print(\"Done!\")"
   ]
  },
  {
   "cell_type": "code",
   "execution_count": 8,
   "id": "f7f3d9cf",
   "metadata": {},
   "outputs": [
    {
     "name": "stdout",
     "output_type": "stream",
     "text": [
      "2\n"
     ]
    }
   ],
   "source": [
    "print('2')"
   ]
  },
  {
   "cell_type": "code",
   "execution_count": 9,
   "id": "bc30abf3",
   "metadata": {},
   "outputs": [
    {
     "name": "stdout",
     "output_type": "stream",
     "text": [
      "tensor(0.0078)\n"
     ]
    }
   ],
   "source": [
    "print(test_loop(model,loss_fn,test_data_size,test_input,test_output))"
   ]
  },
  {
   "cell_type": "code",
   "execution_count": 10,
   "id": "6b89d782",
   "metadata": {},
   "outputs": [
    {
     "name": "stdout",
     "output_type": "stream",
     "text": [
      "tensor([-3.9639e-21,  1.6863e-01,  1.4591e-01,  6.1056e-02,  2.9315e-02,\n",
      "         2.3881e-02,  2.1949e-02,  2.0122e-02,  1.8178e-02,  1.6309e-02,\n",
      "         1.4736e-02])\n"
     ]
    }
   ],
   "source": [
    "print(elmon_loss)"
   ]
  },
  {
   "cell_type": "code",
   "execution_count": 11,
   "id": "41f5d759",
   "metadata": {},
   "outputs": [],
   "source": [
    "class LSTM(nn.Module):\n",
    "    h = 32\n",
    "    C = 32\n",
    "    def __init__(self):\n",
    "        \n",
    "        super().__init__()\n",
    "        \n",
    "        self.h0 = torch.zeros(self.h,1,dtype = torch.float,requires_grad = True)\n",
    "        self.C0 = torch.zeros(self.C,1,dtype = torch.float)\n",
    "        \n",
    "        self.Wf = nn.Parameter(torch.randn(self.C,self.h + 2,requires_grad = True,dtype = torch.float))\n",
    "        self.bf = nn.Parameter(torch.zeros(self.C,1,requires_grad = True,dtype = torch.float))\n",
    "        self.Wi = nn.Parameter(torch.randn(self.C,self.h + 2,requires_grad = True,dtype = torch.float))\n",
    "        self.bi = nn.Parameter(torch.zeros(self.C,1,requires_grad = True,dtype = torch.float))\n",
    "        self.WC = nn.Parameter(torch.randn(self.C,self.h + 2,requires_grad = True,dtype = torch.float))\n",
    "        self.bC = nn.Parameter(torch.zeros(self.C,1,requires_grad = True,dtype = torch.float))\n",
    "        self.Wo = nn.Parameter(torch.randn(self.C,self.h + 2,requires_grad = True,dtype = torch.float))\n",
    "        self.bo = nn.Parameter(torch.zeros(self.C,1,requires_grad = True,dtype = torch.float))\n",
    "        self.Wy = nn.Parameter(torch.randn(1,self.h,requires_grad = True,dtype = torch.float))\n",
    "        self.by = nn.Parameter(torch.zeros(1,1,requires_grad = True,dtype = torch.float))\n",
    "        \n",
    "    def forward(self,xt):\n",
    "        \n",
    "        ht = self.h0\n",
    "        Ct = self.C0\n",
    "        for i in range(len(xt)):\n",
    "            cathx = torch.cat((ht,xt[:,i].unsqueeze(1)))\n",
    "            ft = torch.sigmoid(self.Wf@(cathx) + self.bf)\n",
    "            it = torch.sigmoid(self.Wi@(cathx) + self.bi)\n",
    "            C_t = torch.tanh(self.WC@(cathx) + self.bC)\n",
    "            Ct = torch.mul(ft,Ct) + torch.mul(it,C_t)\n",
    "            ot = torch.sigmoid(self.Wo@(cathx) + self.bo)\n",
    "            ht = torch.mul(ot,torch.tanh(Ct))\n",
    "        y = self.Wy@ht + self.by\n",
    "        return y[0]"
   ]
  },
  {
   "cell_type": "code",
   "execution_count": 12,
   "id": "27763f2b",
   "metadata": {},
   "outputs": [
    {
     "name": "stdout",
     "output_type": "stream",
     "text": [
      "Epoch 1:1.069427728652954\n",
      "Epoch 2:0.11578652262687683\n",
      "Epoch 3:0.1048683449625969\n",
      "Epoch 4:0.10252280533313751\n",
      "Epoch 5:0.10162951052188873\n",
      "Epoch 6:0.10109991580247879\n",
      "Epoch 7:0.10071918368339539\n",
      "Epoch 8:0.10042141377925873\n",
      "Epoch 9:0.10017890483140945\n",
      "Epoch 10:0.09997584670782089\n",
      "Done!\n"
     ]
    }
   ],
   "source": [
    "model = LSTM()\n",
    "loss_fn = nn.MSELoss()\n",
    "optimizer = torch.optim.Adam(model.parameters(), lr=0.0001)\n",
    "LSTM_loss = torch.empty([1])\n",
    "current_loss = 100\n",
    "epochs = 0\n",
    "while True:\n",
    "    if (abs(current_loss) > 0.05 and epochs < 10) :\n",
    "            current_loss = train_loop(model, loss_fn, optimizer,data_size,input_data,output_data)\n",
    "            print(\"Epoch {}:{}\".format(epochs+1,current_loss))\n",
    "            LSTM_loss = torch.cat((LSTM_loss,torch.tensor([current_loss])))\n",
    "            epochs = epochs + 1\n",
    "    else:\n",
    "        break\n",
    "print(\"Done!\")"
   ]
  },
  {
   "cell_type": "code",
   "execution_count": 13,
   "id": "011de909",
   "metadata": {},
   "outputs": [
    {
     "name": "stdout",
     "output_type": "stream",
     "text": [
      "tensor(0.1018)\n"
     ]
    }
   ],
   "source": [
    "print(test_loop(model,loss_fn,test_data_size,test_input,test_output))"
   ]
  },
  {
   "cell_type": "code",
   "execution_count": 14,
   "id": "4ebf3049",
   "metadata": {},
   "outputs": [],
   "source": [
    "class GRU(nn.Module):\n",
    "    h = 32\n",
    "    def __init__(self):\n",
    "        \n",
    "        super().__init__()\n",
    "        self.h0 = torch.zeros(self.h,1,requires_grad = False,dtype = torch.float)\n",
    "        \n",
    "        self.Wr = nn.Parameter(torch.randn(self.h+2,self.h + 2,requires_grad = True,dtype = torch.float))\n",
    "        self.br = nn.Parameter(torch.randn(self.h+2,1,requires_grad = True,dtype = torch.float))\n",
    "        self.Wz = nn.Parameter(torch.randn(self.h,self.h + 2,requires_grad = True,dtype = torch.float))\n",
    "        self.bz = nn.Parameter(torch.randn(self.h,1,requires_grad = True,dtype = torch.float))\n",
    "        self.W = nn.Parameter(torch.randn(self.h,self.h + 2,requires_grad = True,dtype = torch.float))\n",
    "        self.b = nn.Parameter(torch.randn(self.h,1,requires_grad = True,dtype = torch.float))\n",
    "        self.Wy = nn.Parameter(torch.randn(1,self.h,requires_grad = True,dtype = torch.float))\n",
    "        self.by = nn.Parameter(torch.randn(1,1,requires_grad = True,dtype = torch.float))\n",
    "        \n",
    "    def forward(self,xt):\n",
    "        \n",
    "        ht = self.h0\n",
    "        for i in range(len(xt)):\n",
    "            cathx = torch.cat((ht,xt[:,i].unsqueeze(1)))\n",
    "            zt = torch.sigmoid(self.Wz@(cathx) + self.bz)\n",
    "            rt = torch.sigmoid(self.Wr@(cathx) + self.br) \n",
    "            h_t = torch.tanh(self.W@(torch.mul(rt,cathx)) + self.b)\n",
    "            ht = torch.mul(1-zt,ht) + torch.mul(zt,h_t)\n",
    "        y = self.Wy@ht + self.by\n",
    "        return y[0]"
   ]
  },
  {
   "cell_type": "code",
   "execution_count": 15,
   "id": "995250a1",
   "metadata": {
    "scrolled": true
   },
   "outputs": [
    {
     "name": "stdout",
     "output_type": "stream",
     "text": [
      "Epoch 1:1.296203851699829\n",
      "Epoch 2:0.11484716832637787\n",
      "Epoch 3:0.10688703507184982\n",
      "Epoch 4:0.10381294041872025\n",
      "Epoch 5:0.10242536664009094\n",
      "Epoch 6:0.1016603410243988\n",
      "Epoch 7:0.10117233544588089\n",
      "Epoch 8:0.10083005577325821\n",
      "Epoch 9:0.10057543218135834\n",
      "Epoch 10:0.10037962347269058\n",
      "Done!\n"
     ]
    }
   ],
   "source": [
    "model = GRU()\n",
    "loss_fn = nn.MSELoss()\n",
    "optimizer = torch.optim.Adam(model.parameters(), lr=0.0001)\n",
    "GRU_loss = torch.empty([1])\n",
    "current_loss = 100\n",
    "epochs = 0\n",
    "while True:\n",
    "    if (abs(current_loss) > 0.05 and epochs < 10) :\n",
    "            current_loss = train_loop(model, loss_fn, optimizer,data_size,input_data,output_data)\n",
    "            print(\"Epoch {}:{}\".format(epochs+1,current_loss))\n",
    "            GRU_loss = torch.cat((GRU_loss,torch.tensor([current_loss])))\n",
    "            epochs = epochs + 1\n",
    "    else:\n",
    "        break\n",
    "print(\"Done!\")"
   ]
  },
  {
   "cell_type": "code",
   "execution_count": 16,
   "id": "653b57be",
   "metadata": {},
   "outputs": [
    {
     "name": "stdout",
     "output_type": "stream",
     "text": [
      "tensor(0.1001)\n"
     ]
    }
   ],
   "source": [
    "print(test_loop(model,loss_fn,test_data_size,test_input,test_output))"
   ]
  },
  {
   "cell_type": "code",
   "execution_count": 17,
   "id": "19447006",
   "metadata": {},
   "outputs": [
    {
     "name": "stdout",
     "output_type": "stream",
     "text": [
      "tensor(0.1690)\n"
     ]
    }
   ],
   "source": [
    "loss_m = 0\n",
    "loss_fn = nn.MSELoss()\n",
    "for i in range(data_size):\n",
    "    x = torch.tensor([1])\n",
    "    y = output_data[i]\n",
    "    loss = loss_fn(x, y)\n",
    "    loss_m = loss_m + loss\n",
    "loss_m = loss_m/data_size    \n",
    "print(loss_m)"
   ]
  },
  {
   "cell_type": "code",
   "execution_count": 18,
   "id": "dca6d6e4",
   "metadata": {},
   "outputs": [
    {
     "data": {
      "image/png": "[encoded data removed]",
      "text/plain": [
       "<Figure size 640x480 with 1 Axes>"
      ]
     },
     "metadata": {},
     "output_type": "display_data"
    }
   ],
   "source": [
    "x = torch.linspace(-1,10,10)\n",
    "y = torch.ones(10)*loss_m\n",
    "plt.plot(x, y, '-r', label =\"baseline loss\")\n",
    "plt.plot(x,elmon_loss[1:11],'-b',label = \"loss in elmon\")\n",
    "plt.plot(x,LSTM_loss[1:11],'-g',label = \"loss in LSTM\")\n",
    "plt.plot(x,GRU_loss[1:11],'-c',label = \"loss in GRU\")\n",
    "plt.title('Comparing Losses')\n",
    "plt.xlabel('Epochs', color='#1C2833')\n",
    "plt.ylabel('Loss on Epochs', color='#1C2833')\n",
    "plt.legend(loc='upper right')\n",
    "plt.show()"
   ]
  }
 ],
 "metadata": {
  "kernelspec": {
   "display_name": "Python 3 (ipykernel)",
   "language": "python",
   "name": "python3"
  },
  "language_info": {
   "codemirror_mode": {
    "name": "ipython",
    "version": 3
   },
   "file_extension": ".py",
   "mimetype": "text/x-python",
   "name": "python",
   "nbconvert_exporter": "python",
   "pygments_lexer": "ipython3",
   "version": "3.10.10"
  }
 },
 "nbformat": 4,
 "nbformat_minor": 5
}
