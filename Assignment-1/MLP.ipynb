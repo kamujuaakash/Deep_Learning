{
  "nbformat": 4,
  "nbformat_minor": 0,
  "metadata": {
    "colab": {
      "provenance": []
    },
    "kernelspec": {
      "name": "python3",
      "display_name": "Python 3"
    },
    "language_info": {
      "name": "python"
    }
  },
  "cells": [
    {
      "cell_type": "code",
      "execution_count": null,
      "metadata": {
        "id": "1pERdnUsCdvP",
        "colab": {
          "base_uri": "https://localhost:8080/",
          "height": 265
        },
        "outputId": "28ed0796-9f82-497b-d766-3a8bbd16054d"
      },
      "outputs": [
        {
          "output_type": "display_data",
          "data": {
            "text/plain": [
              "<Figure size 432x288 with 1 Axes>"
            ],
            "image/png": "[encoded data removed]"
          },
          "metadata": {
            "needs_background": "light"
          }
        }
      ],
      "source": [
        "# For generating and plotting the data\n",
        "import numpy as np\n",
        "import matplotlib.pyplot as plt\n",
        "from sklearn.model_selection import train_test_split\n",
        "\n",
        "dist = 0.66\n",
        "\n",
        "X1 = np.random.random((2000,2))\n",
        "X2 = [x for x in X1 if (x[0])**2 + (x[1])**2 > dist**2] # filter values that are to close to center\n",
        "\n",
        "dist2 = 0.64\n",
        "Y1 = np.random.random((2000,2))\n",
        "Y2 = [x for x in X1 if (x[0])**2 + (x[1])**2 < dist2**2] # filter values that are to close to center\n",
        "\n",
        "# for plotting\n",
        "x = [x[0] for x in X2]\n",
        "y = [y[1] for y in X2]\n",
        "\n",
        "a = [x[0] for x in Y2]\n",
        "b = [y[1] for y in Y2]\n",
        "plt.scatter(x,y,c='b',s=3)\n",
        "plt.scatter(a,b,c='r',s=3)\n",
        "plt.show()"
      ]
    },
    {
      "cell_type": "code",
      "source": [
        "x = np.array(x)\n",
        "a = np.array(a)\n",
        "o1 = np.ones(len(x))\n",
        "y = np.array(y)\n",
        "b = np.array(b)\n",
        "o2 = -1*np.ones(len(a))\n",
        "X1 = np.concatenate([x,a])\n",
        "Y1 = np.concatenate([y,b])\n",
        "Y_org = np.concatenate([o1,o2])\n",
        "one = np.ones(len(X1))\n",
        "X1.transpose()\n",
        "Y1.transpose()\n",
        "X_org = np.column_stack([X1, Y1,one])\n",
        "print(Y_org)"
      ],
      "metadata": {
        "colab": {
          "base_uri": "https://localhost:8080/"
        },
        "id": "7VPLARPTEnod",
        "outputId": "e1ac972b-8477-4ebb-a6c7-b7b9d7fb5233"
      },
      "execution_count": null,
      "outputs": [
        {
          "output_type": "stream",
          "name": "stdout",
          "text": [
            "[ 1.  1.  1. ... -1. -1. -1.]\n"
          ]
        }
      ]
    },
    {
      "cell_type": "code",
      "source": [
        "def relu(x):\n",
        "    return(np.maximum(0, x))"
      ],
      "metadata": {
        "id": "KMCch_e2eRuW"
      },
      "execution_count": null,
      "outputs": []
    },
    {
      "cell_type": "code",
      "source": [
        "x_values = np.linspace(start = -2, stop = 2, num = 41)\n",
        "print(x_values)\n",
        "print(relu(x_values))"
      ],
      "metadata": {
        "colab": {
          "base_uri": "https://localhost:8080/"
        },
        "id": "tWGimuPwjmqj",
        "outputId": "0560054a-7421-4e0c-829a-b8ac2297485d"
      },
      "execution_count": null,
      "outputs": [
        {
          "output_type": "stream",
          "name": "stdout",
          "text": [
            "[-2.  -1.9 -1.8 -1.7 -1.6 -1.5 -1.4 -1.3 -1.2 -1.1 -1.  -0.9 -0.8 -0.7\n",
            " -0.6 -0.5 -0.4 -0.3 -0.2 -0.1  0.   0.1  0.2  0.3  0.4  0.5  0.6  0.7\n",
            "  0.8  0.9  1.   1.1  1.2  1.3  1.4  1.5  1.6  1.7  1.8  1.9  2. ]\n",
            "[0.  0.  0.  0.  0.  0.  0.  0.  0.  0.  0.  0.  0.  0.  0.  0.  0.  0.\n",
            " 0.  0.  0.  0.1 0.2 0.3 0.4 0.5 0.6 0.7 0.8 0.9 1.  1.1 1.2 1.3 1.4 1.5\n",
            " 1.6 1.7 1.8 1.9 2. ]\n"
          ]
        }
      ]
    },
    {
      "cell_type": "code",
      "source": [
        "w2 = np.random.randn(5,)-0.5\n",
        "w1 = np.random.randn(5,3)-0.5\n",
        "b = np.random.randn(1)-0.5\n",
        "print(w1,w2,b)"
      ],
      "metadata": {
        "id": "amjZpfljjpfR",
        "colab": {
          "base_uri": "https://localhost:8080/"
        },
        "outputId": "3ce6eaf0-6993-4e71-8829-e8f691380860"
      },
      "execution_count": null,
      "outputs": [
        {
          "output_type": "stream",
          "name": "stdout",
          "text": [
            "[[ 0.84180634  1.1794314  -0.66947476]\n",
            " [-0.03700335 -0.16589749 -0.39338018]\n",
            " [-1.29448209  1.18765525 -1.89141804]\n",
            " [-0.02512431  0.92609166  2.20396831]\n",
            " [ 0.18761675 -0.63797011 -0.00827361]] [-0.29320181 -0.98451082 -0.98769228 -1.01727586  0.02815088] [-0.25188438]\n"
          ]
        }
      ]
    },
    {
      "cell_type": "code",
      "source": [
        "def forward_pass(x,w1,w2,b):\n",
        "    s1 = np.multiply(x,w1[0])\n",
        "    s2 = np.multiply(x,w1[1])\n",
        "    S1 = np.sum(np.multiply(w1,x),axis = 1)\n",
        "    A1 = relu(S1)\n",
        "    S2 = (np.multiply(w2,A1))\n",
        "    A2 = np.sum(S2) + b\n",
        "    # print(A2[0])\n",
        "    return s1,s2,w1,w2,S1,A1,S2,A2\n"
      ],
      "metadata": {
        "id": "PISCsLc2J0q3"
      },
      "execution_count": null,
      "outputs": []
    },
    {
      "cell_type": "code",
      "source": [
        "x = np.array([1,2,3])\n",
        "forward_pass(x,w1,w2,b)"
      ],
      "metadata": {
        "colab": {
          "base_uri": "https://localhost:8080/"
        },
        "id": "pTweJEzWo1M9",
        "outputId": "8ad2c987-a1c0-42d8-a391-4037b33ffba5"
      },
      "execution_count": null,
      "outputs": [
        {
          "output_type": "execute_result",
          "data": {
            "text/plain": [
              "(array([ 0.84180634,  2.3588628 , -2.00842429]),\n",
              " array([-0.03700335, -0.33179497, -1.18014055]),\n",
              " array([[ 0.84180634,  1.1794314 , -0.66947476],\n",
              "        [-0.03700335, -0.16589749, -0.39338018],\n",
              "        [-1.29448209,  1.18765525, -1.89141804],\n",
              "        [-0.02512431,  0.92609166,  2.20396831],\n",
              "        [ 0.18761675, -0.63797011, -0.00827361]]),\n",
              " array([-0.29320181, -0.98451082, -0.98769228, -1.01727586,  0.02815088]),\n",
              " array([ 1.19224486, -1.54893887, -4.59342573,  8.43896395, -1.1131443 ]),\n",
              " array([1.19224486, 0.        , 0.        , 8.43896395, 0.        ]),\n",
              " array([-0.34956834, -0.        , -0.        , -8.58475427,  0.        ]),\n",
              " array([-9.186207]))"
            ]
          },
          "metadata": {},
          "execution_count": 690
        }
      ]
    },
    {
      "cell_type": "code",
      "source": [
        "print(w2)\n",
        "print(w2[1])"
      ],
      "metadata": {
        "colab": {
          "base_uri": "https://localhost:8080/"
        },
        "id": "z-N0q6FKQG7x",
        "outputId": "9b728762-1388-4360-9986-2ab8d63257ea"
      },
      "execution_count": null,
      "outputs": [
        {
          "output_type": "stream",
          "name": "stdout",
          "text": [
            "[-0.29320181 -0.98451082 -0.98769228 -1.01727586  0.02815088]\n",
            "-0.9845108228287553\n"
          ]
        }
      ]
    },
    {
      "cell_type": "code",
      "source": [
        "def forward_pass(x,w1,w2,b):\n",
        "    S1 = np.sum(np.multiply(w1,x),axis = 1)\n",
        "    A1 = relu(S1)\n",
        "    S2 = np.multiply(w2,A1)\n",
        "    A2 = np.sum(S2) + b\n",
        "    return S1,S2,A1,A2"
      ],
      "metadata": {
        "id": "6SNC_l4DFtS7"
      },
      "execution_count": null,
      "outputs": []
    },
    {
      "cell_type": "code",
      "source": [
        "for i in range(X_org.shape[0]):\n",
        "    S1,S2,A1,A2 = forward_pass(X_org[i],w1,w2,b)\n",
        "    print(S2)"
      ],
      "metadata": {
        "id": "JokMEJPqNTNp"
      },
      "execution_count": null,
      "outputs": []
    },
    {
      "cell_type": "code",
      "source": [
        "print(X_org.shape[0])\n",
        "print(w2.shape[0])"
      ],
      "metadata": {
        "colab": {
          "base_uri": "https://localhost:8080/"
        },
        "id": "ePC7O7KlN3Mu",
        "outputId": "f3168ba6-fc21-4047-cc44-6fb608ee3bcd"
      },
      "execution_count": null,
      "outputs": [
        {
          "output_type": "stream",
          "name": "stdout",
          "text": [
            "1967\n",
            "5\n"
          ]
        }
      ]
    },
    {
      "cell_type": "code",
      "source": [
        "def backprop(X,Y,w1,w2,b,nb_epochs):\n",
        "   for j in range(nb_epochs):\n",
        "      count = 0 \n",
        "      for i in range(X.shape[0]):\n",
        "        S1,S2,A1,A2 = forward_pass(X[i],w1,w2,b)\n",
        "        z = -1\n",
        "        if A2[0] > 0 : \n",
        "          z = 1\n",
        "        if (z*Y[i] < 1):\n",
        "            b = b + 0.01*Y[i]\n",
        "            # print(b)\n",
        "            for k in range(5):\n",
        "              w2[k] = w2[k] + 0.01*A1[k]*Y[i]\n",
        "            for m in range(5):\n",
        "              for n in range(3):\n",
        "                if S1[m] > 0:\n",
        "                  w1[m][n] = w1[m][n] + 0.01*Y[i]*A1[m]*X[i][n]\n",
        "        else : count = count + 1\n",
        "      if(j%5 == 0) :\n",
        "        print(count/X.shape[0]) \n",
        "        # print(b)          \n",
        "   return w1,w2,b\n"
      ],
      "metadata": {
        "id": "7inZMSUewCAI"
      },
      "execution_count": null,
      "outputs": []
    },
    {
      "cell_type": "code",
      "source": [
        "print(Y_org)\n",
        "# backprop(X_org,Y_org,w1,w2,b,100)"
      ],
      "metadata": {
        "colab": {
          "base_uri": "https://localhost:8080/"
        },
        "id": "W66ADc0yLyYA",
        "outputId": "043acb56-950b-484a-883f-58bd86f10ac3"
      },
      "execution_count": null,
      "outputs": [
        {
          "output_type": "stream",
          "name": "stdout",
          "text": [
            "[ 1.  1.  1. ... -1. -1. -1.]\n"
          ]
        }
      ]
    },
    {
      "cell_type": "code",
      "source": [
        "print(X_org.shape[0])"
      ],
      "metadata": {
        "colab": {
          "base_uri": "https://localhost:8080/"
        },
        "id": "EeZiZgZSZS1S",
        "outputId": "fd3cd5d9-e5de-4c0e-bfe8-321f13966008"
      },
      "execution_count": null,
      "outputs": [
        {
          "output_type": "stream",
          "name": "stdout",
          "text": [
            "1967\n"
          ]
        }
      ]
    },
    {
      "cell_type": "code",
      "source": [
        "# for i in range(X_org.shape[0]):\n",
        "  # print(X_org[i])"
      ],
      "metadata": {
        "id": "JFFhYAGsXffr"
      },
      "execution_count": null,
      "outputs": []
    },
    {
      "cell_type": "code",
      "source": [
        "X_train, X_test, Y_train, Y_test = train_test_split(X_org,Y_org, test_size = 1/3, random_state = 0)"
      ],
      "metadata": {
        "id": "emFjCL3oIaJv"
      },
      "execution_count": null,
      "outputs": []
    },
    {
      "cell_type": "code",
      "source": [
        "w1,w2,b = backprop(X_train,Y_train,w1,w2,b,15)"
      ],
      "metadata": {
        "colab": {
          "base_uri": "https://localhost:8080/"
        },
        "id": "NjzeYDVmJWUp",
        "outputId": "b39da66a-f5ae-4553-97bb-7aa2e0ea810a"
      },
      "execution_count": null,
      "outputs": [
        {
          "output_type": "stream",
          "name": "stdout",
          "text": [
            "0.7948131197559115\n",
            "0.8993135011441648\n",
            "0.8924485125858124\n"
          ]
        }
      ]
    },
    {
      "cell_type": "code",
      "source": [
        "Y_pred = np.array([])\n",
        "for i in range(len(X_test)):\n",
        "  S1,S2,A1,A2 = forward_pass(X_test[i],w1,w2,b)\n",
        "  # print(S1)\n",
        "  # print(A1)\n",
        "  # if A2[0] > 0:\n",
        "  #   Y_pred = np.concatenate([Y_pred,[1]])\n",
        "  # else:\n",
        "  #   Y_pred = np.concatenate([Y_pred,[-1]])"
      ],
      "metadata": {
        "id": "92PrIqMPJGDh"
      },
      "execution_count": null,
      "outputs": []
    },
    {
      "cell_type": "code",
      "source": [
        "print(Y_pred)"
      ],
      "metadata": {
        "colab": {
          "base_uri": "https://localhost:8080/"
        },
        "id": "cTrT-Kf1Pnk9",
        "outputId": "96c0e12a-07f4-4ed4-d9e5-d943e369fc68"
      },
      "execution_count": null,
      "outputs": [
        {
          "output_type": "stream",
          "name": "stdout",
          "text": [
            "[]\n"
          ]
        }
      ]
    },
    {
      "cell_type": "code",
      "source": [],
      "metadata": {
        "id": "-EuVGhtLQt75"
      },
      "execution_count": null,
      "outputs": []
    }
  ]
}